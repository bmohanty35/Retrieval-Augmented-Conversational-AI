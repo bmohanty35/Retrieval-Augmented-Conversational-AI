{
 "cells": [
  {
   "cell_type": "markdown",
   "id": "052eb864-9e68-4258-8967-8b9d4edef6c9",
   "metadata": {},
   "source": [
    "# Retrieval-Augmented Generation (RAG) Project"
   ]
  },
  {
   "cell_type": "code",
   "execution_count": 1,
   "id": "bfb5cb86-d0f7-4beb-9c03-5f6446c73ac0",
   "metadata": {},
   "outputs": [
    {
     "name": "stdout",
     "output_type": "stream",
     "text": [
      "Note: you may need to restart the kernel to use updated packages.\n"
     ]
    }
   ],
   "source": [
    "pip install sentence-transformers transformers faiss-cpu --quiet"
   ]
  },
  {
   "cell_type": "code",
   "execution_count": 2,
   "id": "7d96f5d7-3f02-433f-be4e-96cea5e6ff40",
   "metadata": {},
   "outputs": [
    {
     "name": "stdout",
     "output_type": "stream",
     "text": [
      "Note: you may need to restart the kernel to use updated packages.\n"
     ]
    }
   ],
   "source": [
    "pip install tf-keras --quiet"
   ]
  },
  {
   "cell_type": "code",
   "execution_count": 3,
   "id": "5f84cbbe-ab76-4e48-88a8-6412e68f25ce",
   "metadata": {},
   "outputs": [
    {
     "name": "stdout",
     "output_type": "stream",
     "text": [
      "WARNING:tensorflow:From C:\\Users\\bmoha\\anaconda3\\Lib\\site-packages\\tf_keras\\src\\losses.py:2976: The name tf.losses.sparse_softmax_cross_entropy is deprecated. Please use tf.compat.v1.losses.sparse_softmax_cross_entropy instead.\n",
      "\n"
     ]
    }
   ],
   "source": [
    "# import and install libraries\n",
    "import pandas as pd\n",
    "from sentence_transformers import SentenceTransformer, util\n",
    "import torch\n",
    "from transformers import AutoTokenizer, AutoModelForSeq2SeqLM\n",
    "import os\n",
    "os.environ[\"HF_HUB_DISABLE_SYMLINKS_WARNING\"] = \"1\""
   ]
  },
  {
   "cell_type": "code",
   "execution_count": 4,
   "id": "586a8dc0-6a51-4de3-84f8-54356d251be4",
   "metadata": {},
   "outputs": [
    {
     "name": "stdout",
     "output_type": "stream",
     "text": [
      "                                             question  \\\n",
      "0                   What is a general health checkup?   \n",
      "1         How often should I get a full body checkup?   \n",
      "2                  What are the symptoms of diabetes?   \n",
      "3                    How can I prevent heart disease?   \n",
      "4                What is BMI and why is it important?   \n",
      "5                       What vaccines do adults need?   \n",
      "6                               What is telemedicine?   \n",
      "7   Can I get a prescription through online consul...   \n",
      "8             How can I reduce cholesterol naturally?   \n",
      "9                               What is hypertension?   \n",
      "10                  Are online health records secure?   \n",
      "11              What is the normal blood sugar level?   \n",
      "12               How much water should I drink daily?   \n",
      "13  What is the difference between a virus and bac...   \n",
      "14            When should I see a doctor for a fever?   \n",
      "15                 What are the symptoms of COVID-19?   \n",
      "16                  How can I boost my immune system?   \n",
      "17   Is it safe to go to hospitals during a pandemic?   \n",
      "18          What should I carry for a hospital visit?   \n",
      "19                          What is health insurance?   \n",
      "\n",
      "                                               answer  \n",
      "0   A general health checkup includes tests to ass...  \n",
      "1   It is recommended once a year, especially afte...  \n",
      "2   Common symptoms include frequent urination, in...  \n",
      "3   Maintain a healthy diet, exercise regularly, a...  \n",
      "4   BMI (Body Mass Index) helps determine if your ...  \n",
      "5   Adults may need flu, COVID-19, tetanus, shingl...  \n",
      "6   Telemedicine is the use of technology to consu...  \n",
      "7   Yes, certified telemedicine platforms allow li...  \n",
      "8   Eat more fiber, reduce saturated fats, exercis...  \n",
      "9   Hypertension or high blood pressure is a chron...  \n",
      "10  Yes, most certified platforms use encryption a...  \n",
      "11  For fasting, 70–100 mg/dL is normal. Consult a...  \n",
      "12  Generally, 8–10 glasses per day is recommended...  \n",
      "13  Viruses need a host to replicate, while bacter...  \n",
      "14  If the fever lasts more than 3 days or is abov...  \n",
      "15  Fever, cough, fatigue, loss of taste/smell, an...  \n",
      "16  Eat balanced meals, sleep well, stay hydrated,...  \n",
      "17  Yes, hospitals follow strict safety protocols ...  \n",
      "18  Carry your ID, insurance, previous reports, me...  \n",
      "19  Health insurance helps cover medical expenses ...  \n"
     ]
    }
   ],
   "source": [
    "# Load knowledge base (FAQ)\n",
    "kb = pd.read_csv(\"faq.csv\")\n",
    "print(kb)"
   ]
  },
  {
   "cell_type": "code",
   "execution_count": 5,
   "id": "1bb5289a-575a-4638-83e3-9fafe4c444b7",
   "metadata": {},
   "outputs": [
    {
     "name": "stderr",
     "output_type": "stream",
     "text": [
      "C:\\Users\\bmoha\\anaconda3\\Lib\\site-packages\\torch\\nn\\modules\\module.py:1762: FutureWarning: `encoder_attention_mask` is deprecated and will be removed in version 4.55.0 for `BertSdpaSelfAttention.forward`.\n",
      "  return forward_call(*args, **kwargs)\n"
     ]
    }
   ],
   "source": [
    "# Embed knowledge base questions using sentence-transformers\n",
    "embedder = SentenceTransformer('all-MiniLM-L6-v2')\n",
    "kb_embeddings = embedder.encode(kb['question'].tolist(), convert_to_tensor=True)"
   ]
  },
  {
   "cell_type": "code",
   "execution_count": 6,
   "id": "1898a991-4ff2-427a-965c-3dc065e97675",
   "metadata": {},
   "outputs": [],
   "source": [
    "# Load generation model (T5-small fine-tuned for QA)\n",
    "tokenizer = AutoTokenizer.from_pretrained(\"t5-small\")\n",
    "model = AutoModelForSeq2SeqLM.from_pretrained(\"t5-small\")"
   ]
  },
  {
   "cell_type": "code",
   "execution_count": 7,
   "id": "31206b78-c6dd-44da-a7fe-334346948b64",
   "metadata": {},
   "outputs": [],
   "source": [
    "device = torch.device(\"cuda\" if torch.cuda.is_available() else \"cpu\")\n",
    "model = model.to(device)"
   ]
  },
  {
   "cell_type": "code",
   "execution_count": 8,
   "id": "cc08b68f-6eb8-45cf-b158-fd8ed42c904b",
   "metadata": {},
   "outputs": [],
   "source": [
    "def retrieve(query, kb_embeddings, kb_df, top_k=3):\n",
    "    # Embed query\n",
    "    query_emb = embedder.encode(query, convert_to_tensor=True)\n",
    "    # Compute cosine similarity with KB questions\n",
    "    cos_scores = util.pytorch_cos_sim(query_emb, kb_embeddings)[0]\n",
    "    # Get top k results\n",
    "    top_results = torch.topk(cos_scores, k=top_k)\n",
    "    indices = top_results.indices.cpu().numpy()\n",
    "    scores = top_results.values.cpu().numpy()\n",
    "    results = []\n",
    "    for idx, score in zip(indices, scores):\n",
    "        results.append((kb_df.iloc[idx]['question'], kb_df.iloc[idx]['answer'], score))\n",
    "    return results"
   ]
  },
  {
   "cell_type": "code",
   "execution_count": 9,
   "id": "3b410fbe-75fe-4a55-994e-9a52dc2f6888",
   "metadata": {},
   "outputs": [],
   "source": [
    "def generate_answer(query, retrieved_passages):\n",
    "    # Combine retrieved answers into context\n",
    "    context = \" \".join([p[1] for p in retrieved_passages])\n",
    "    input_text = f\"question: {query} context: {context}\"\n",
    "    input_ids = tokenizer.encode(input_text, return_tensors='pt').to(device)\n",
    "\n",
    "    outputs = model.generate(input_ids, max_length=150, num_beams=4, early_stopping=True)\n",
    "    answer = tokenizer.decode(outputs[0], skip_special_tokens=True)\n",
    "    return answer"
   ]
  },
  {
   "cell_type": "code",
   "execution_count": 10,
   "id": "72d90d2b-db4d-4e64-b07f-37a80e52082e",
   "metadata": {},
   "outputs": [
    {
     "name": "stdout",
     "output_type": "stream",
     "text": [
      "Top retrieved documents:\n",
      "- Q: What is telemedicine? (score: 0.290)\n",
      "- Q: What is hypertension? (score: 0.263)\n",
      "- Q: What is health insurance? (score: 0.233)\n",
      "\n",
      "Generated answer:\n",
      "to consult with doctors remotely using video, phone, or chat\n"
     ]
    }
   ],
   "source": [
    "# Example usage:\n",
    "query = \"What is machine learning?\"\n",
    "retrieved = retrieve(query, kb_embeddings, kb, top_k=3)\n",
    "print(\"Top retrieved documents:\")\n",
    "for q, a, score in retrieved:\n",
    "    print(f\"- Q: {q} (score: {score:.3f})\")\n",
    "\n",
    "answer = generate_answer(query, retrieved)\n",
    "print(\"\\nGenerated answer:\")\n",
    "print(answer)"
   ]
  },
  {
   "cell_type": "code",
   "execution_count": null,
   "id": "cb337d58-8b03-4047-ab19-3f4e81e7d886",
   "metadata": {},
   "outputs": [
    {
     "name": "stdout",
     "output_type": "stream",
     "text": [
      "🤖 Healthcare Assistant Chatbot (type 'exit' to stop)\n",
      "\n"
     ]
    },
    {
     "name": "stdin",
     "output_type": "stream",
     "text": [
      "You:  hypertension\n"
     ]
    },
    {
     "name": "stdout",
     "output_type": "stream",
     "text": [
      "Bot: high blood pressure is a chronic condition that increases risk of heart disease and stroke\n"
     ]
    },
    {
     "name": "stdin",
     "output_type": "stream",
     "text": [
      "You:  insurance\n"
     ]
    },
    {
     "name": "stdout",
     "output_type": "stream",
     "text": [
      "Bot: insurance helps cover medical expenses in exchange for a premium\n"
     ]
    }
   ],
   "source": [
    "# Chatbot loop\n",
    "print(\"🤖 Healthcare Assistant Chatbot (type 'exit' to stop)\\n\")\n",
    "while True:\n",
    "    user_input = input(\"You: \")\n",
    "    if user_input.lower() in [\"exit\", \"quit\", \"stop\"]:\n",
    "        print(\"Bot: Thank you. Stay healthy! 👋\")\n",
    "        break\n",
    "\n",
    "    retrieved = retrieve(user_input, kb_embeddings, kb)\n",
    "    answer = generate_answer(user_input, retrieved)\n",
    "    print(\"Bot:\", answer)"
   ]
  },
  {
   "cell_type": "code",
   "execution_count": null,
   "id": "1d80453b-1198-4d50-8adf-36586b2539d6",
   "metadata": {},
   "outputs": [],
   "source": []
  }
 ],
 "metadata": {
  "kernelspec": {
   "display_name": "Python [conda env:base] *",
   "language": "python",
   "name": "conda-base-py"
  },
  "language_info": {
   "codemirror_mode": {
    "name": "ipython",
    "version": 3
   },
   "file_extension": ".py",
   "mimetype": "text/x-python",
   "name": "python",
   "nbconvert_exporter": "python",
   "pygments_lexer": "ipython3",
   "version": "3.12.7"
  }
 },
 "nbformat": 4,
 "nbformat_minor": 5
}
